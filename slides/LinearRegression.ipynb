{
 "cells": [
  {
   "cell_type": "code",
   "execution_count": 45,
   "id": "54167b30",
   "metadata": {
    "scrolled": true
   },
   "outputs": [
    {
     "name": "stdout",
     "output_type": "stream",
     "text": [
      "(353, 10)\n",
      "(353,)\n",
      "(89, 10)\n",
      "(89,)\n"
     ]
    }
   ],
   "source": [
    "import numpy as np\n",
    "from sklearn.datasets import load_diabetes\n",
    "from sklearn.model_selection import train_test_split\n",
    "from sklearn.linear_model import LinearRegression\n",
    "from sklearn.metrics import mean_squared_error\n",
    "\n",
    "# Input\n",
    "#-------\n",
    "#age age in years\n",
    "#sex\n",
    "#bmi body mass index\n",
    "#bp average blood pressure\n",
    "#s1 tc, total serum cholesterol\n",
    "#s2 ldl, low-density lipoproteins\n",
    "#s3 hdl, high-density lipoproteins\n",
    "#s4 tch, total cholesterol / HDL\n",
    "#s5 ltg, possibly log of serum triglycerides level\n",
    "#s6 glu, blood sugar level\n",
    "\n",
    "# Output\n",
    "#----\n",
    "#A quantitative measure of disease progression one year after baseline\n",
    "\n",
    "X,Y = load_diabetes(return_X_y=True)\n",
    "\n",
    "X_train, X_test, Y_train, Y_test = train_test_split(X, Y, test_size = 0.2, random_state=5)\n",
    "\n",
    "print(X_train.shape)\n",
    "print(Y_train.shape)\n",
    "print(X_test.shape)\n",
    "print(Y_test.shape)"
   ]
  },
  {
   "cell_type": "code",
   "execution_count": 66,
   "id": "b4de2ddb",
   "metadata": {},
   "outputs": [],
   "source": [
    "class MyLinReg():\n",
    "    # fit_intercept:\n",
    "    #     if True => y = <x,w> + b\n",
    "    #     else => y = <x,w>\n",
    "    def __init__(self, fit_intercept=True):\n",
    "        self.intercept = fit_intercept\n",
    "    \n",
    "    def fit(self, X, Y):\n",
    "        N = X.shape[0]\n",
    "        self.D = X.shape[1]\n",
    "        \n",
    "        if self.intercept:  # Append a column of ones to the input\n",
    "            one_vec = np.ones([N,1])\n",
    "            X = np.concatenate((X,one_vec),axis=1)\n",
    "        \n",
    "        # Analytical solution: W = (X^T X)^{-1} X^T Y\n",
    "        self.w = np.linalg.inv(X.T.dot(X)).dot(X.T).dot(Y)\n",
    "        \n",
    "    def predict(self, X):\n",
    "        y_pred = X.dot(self.w[:self.D])\n",
    "        if self.intercept:\n",
    "            y_pred = y_pred + self.w[self.D]\n",
    "        return y_pred\n",
    "\n",
    "# sklearn version\n",
    "model_sk = LinearRegression(fit_intercept=True)\n",
    "model_sk.fit(X_train, Y_train)    \n",
    "\n",
    "# our version\n",
    "model_new = MyLinReg(fit_intercept=True)\n",
    "model_new.fit(X_train, Y_train) \n"
   ]
  },
  {
   "cell_type": "code",
   "execution_count": 67,
   "id": "54c8456a",
   "metadata": {},
   "outputs": [
    {
     "name": "stdout",
     "output_type": "stream",
     "text": [
      "54.60389611984443\n",
      "54.60389611984435\n"
     ]
    }
   ],
   "source": [
    "y_predict = model_sk.predict(X_test)\n",
    "rmse_sk = np.sqrt(mean_squared_error(Y_test, y_predict))\n",
    "\n",
    "print(rmse_sk)\n",
    "\n",
    "y_predict = model_new.predict(X_test)\n",
    "rmse_new = np.sqrt(mean_squared_error(Y_test, y_predict))\n",
    "\n",
    "print(rmse2)\n",
    "#print(model.w)\n",
    "#print(Y)"
   ]
  },
  {
   "cell_type": "code",
   "execution_count": null,
   "id": "0af48703",
   "metadata": {},
   "outputs": [],
   "source": []
  }
 ],
 "metadata": {
  "kernelspec": {
   "display_name": "Python 3 (ipykernel)",
   "language": "python",
   "name": "python3"
  },
  "language_info": {
   "codemirror_mode": {
    "name": "ipython",
    "version": 3
   },
   "file_extension": ".py",
   "mimetype": "text/x-python",
   "name": "python",
   "nbconvert_exporter": "python",
   "pygments_lexer": "ipython3",
   "version": "3.9.7"
  }
 },
 "nbformat": 4,
 "nbformat_minor": 5
}
